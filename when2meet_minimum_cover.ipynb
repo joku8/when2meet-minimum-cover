{
  "nbformat": 4,
  "nbformat_minor": 0,
  "metadata": {
    "colab": {
      "provenance": [],
      "authorship_tag": "ABX9TyPR+2YwD3Bi99MPlUoO3HBZ",
      "include_colab_link": true
    },
    "kernelspec": {
      "name": "python3",
      "display_name": "Python 3"
    },
    "language_info": {
      "name": "python"
    }
  },
  "cells": [
    {
      "cell_type": "markdown",
      "metadata": {
        "id": "view-in-github",
        "colab_type": "text"
      },
      "source": [
        "<a href=\"https://colab.research.google.com/github/joku8/when2meet-minimum-cover/blob/main/when2meet_minimum_cover.ipynb\" target=\"_parent\"><img src=\"https://colab.research.google.com/assets/colab-badge.svg\" alt=\"Open In Colab\"/></a>"
      ]
    },
    {
      "cell_type": "markdown",
      "source": [
        "On the when2meet web page, enter this code in the console to download the data. Use the output csv file for the python scipt below.\n",
        "\n",
        "```JavaScript\n",
        "function getCSV() {\n",
        "    result = \"Time,\" + PeopleNames.join(\",\")+\"\\n\";\n",
        "    for(let i = 0; i < AvailableAtSlot.length; i++) {\n",
        "        let slot = $x(`string(//div[@id=\"GroupTime${TimeOfSlot[i]}\"]/@onmouseover)`);\n",
        "        slot = slot.match(/.*\"(.*)\".*/)[1];\n",
        "        result += slot + \",\";\n",
        "        result += PeopleIDs.map(id => AvailableAtSlot[i].includes(id) ? 1 : 0).join(\",\");\n",
        "        result+= \"\\n\";\n",
        "    }\n",
        "    return result;\n",
        "}\n",
        "content = getCSV()\n",
        "\n",
        "// Create element with <a> tag\n",
        "const link = document.createElement(\"a\");\n",
        "\n",
        "// Create a blog object with the file content which you want to add to the file\n",
        "const file = new Blob([content], { type: 'text/plain' });\n",
        "\n",
        "// Add file content in the object URL\n",
        "link.href = URL.createObjectURL(file);\n",
        "\n",
        "// Add file name\n",
        "link.download = \"when2meet.csv\";\n",
        "\n",
        "// Add click event to <a> tag to save file.\n",
        "link.click();\n",
        "URL.revokeObjectURL(link.href);\n",
        "```\n",
        "\n"
      ],
      "metadata": {
        "id": "kcVXorwrFI2x"
      }
    },
    {
      "cell_type": "code",
      "execution_count": null,
      "metadata": {
        "id": "ooDV8r1M85NE"
      },
      "outputs": [],
      "source": [
        "import pandas as pd\n",
        "\n",
        "# Takes the downloaded csv from when2meet and generates the sets\n",
        "# key=student name\n",
        "# value=set of available times\n",
        "\n",
        "def generate_name_set(csv_file) :\n",
        "  # Read the CSV file into a DataFrame\n",
        "  df = pd.read_csv(csv_file)\n",
        "\n",
        "  # Drop the \"Time\" column to focus only on student availability\n",
        "  student_df = df.drop(columns=[\"Time\"])\n",
        "\n",
        "  # Dictionary to store the sets for each student\n",
        "  set_obj = {}\n",
        "\n",
        "  # Iterate through each student's column\n",
        "  for name in student_df.columns:\n",
        "      availability_set = set()\n",
        "\n",
        "      # Iterate through each row (time block) in the student's column\n",
        "      for i, value in enumerate(student_df[name]):\n",
        "          if value == 1:\n",
        "              availability_set.add(df.loc[i, \"Time\"])  # Add the corresponding time block\n",
        "\n",
        "      set_obj[name] = availability_set  # Store the availability set for the student\n",
        "\n",
        "  # Create a dictionary to store the availability sets for each student\n",
        "  availability_dict = {}\n",
        "\n",
        "  # Iterate through each student's availability set\n",
        "  for name, availability_set in set_obj.items():\n",
        "      availability_dict[name] = availability_set\n",
        "\n",
        "  return availability_dict"
      ]
    },
    {
      "cell_type": "code",
      "source": [
        "import pandas as pd\n",
        "\n",
        "# Takes the downloaded csv from when2meet and generates the sets\n",
        "# key=times\n",
        "# value=students available at that time\n",
        "\n",
        "def generate_time_set(csv_file) :\n",
        "    # Read the CSV file into a DataFrame\n",
        "    df = pd.read_csv(csv_file)\n",
        "\n",
        "    # Drop the \"Time\" column to focus only on student availability\n",
        "    student_df = df.drop(columns=[\"Time\"])\n",
        "\n",
        "    # Create a dictionary to store the availability lists for each time\n",
        "    availability_dict = {}\n",
        "\n",
        "    # Iterate through each row (time block) in the DataFrame\n",
        "    for i, row in df.iterrows():\n",
        "        time = row[\"Time\"]\n",
        "        availability_list = []\n",
        "\n",
        "        # Iterate through each column (student) in the row\n",
        "        for student, value in row.items():\n",
        "            if student != \"Time\" and value == 1:\n",
        "                availability_list.append(student)  # Add the student to the availability list\n",
        "\n",
        "        availability_dict[time] = availability_list  # Store the availability list for the time\n",
        "\n",
        "    return availability_dict\n"
      ],
      "metadata": {
        "id": "MYKDHs8kv310"
      },
      "execution_count": null,
      "outputs": []
    },
    {
      "cell_type": "code",
      "source": [
        "def find_minimum_cover(availability_dict):\n",
        "    # Convert the availability_dict values to sets for faster intersection operations\n",
        "    availability_sets = {time: set(students) for time, students in availability_dict.items()}\n",
        "\n",
        "    all_students = set(student for students in availability_dict.values() for student in students)\n",
        "    remaining_students = all_students.copy()\n",
        "    selected_times = []\n",
        "\n",
        "    while remaining_students:\n",
        "        best_time = None\n",
        "        best_cover = set()\n",
        "\n",
        "        for time, students in availability_sets.items():\n",
        "            current_cover = students.intersection(remaining_students)\n",
        "\n",
        "            if not best_cover or len(current_cover) > len(best_cover):\n",
        "                best_time = time\n",
        "                best_cover = current_cover\n",
        "\n",
        "        if best_time is None:\n",
        "            break\n",
        "\n",
        "        selected_times.append(best_time)\n",
        "        remaining_students -= best_cover\n",
        "        del availability_sets[best_time]\n",
        "\n",
        "    return selected_times"
      ],
      "metadata": {
        "id": "u5lU414wDjEx"
      },
      "execution_count": null,
      "outputs": []
    },
    {
      "cell_type": "code",
      "source": [
        "availability_set = generate_time_set(\"target.csv\")\n",
        "min_cover = find_minimum_cover(availability_set)\n",
        "print('Minimum cover:', min_cover)"
      ],
      "metadata": {
        "id": "S3FXqKmCIqpr",
        "colab": {
          "base_uri": "https://localhost:8080/"
        },
        "outputId": "6612b1d8-6f9a-4639-a664-cf0cc25ce86a"
      },
      "execution_count": null,
      "outputs": [
        {
          "output_type": "stream",
          "name": "stdout",
          "text": [
            "minimum cover: ['Friday 02:30:00 PM', 'Monday 09:00:00 AM', 'Monday 11:00:00 AM']\n"
          ]
        }
      ]
    }
  ]
}